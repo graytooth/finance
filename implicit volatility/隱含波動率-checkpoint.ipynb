{
 "cells": [
  {
   "cell_type": "code",
   "execution_count": 1,
   "id": "6e5f82fe",
   "metadata": {},
   "outputs": [
    {
     "name": "stdout",
     "output_type": "stream",
     "text": [
      "0.055625943207094346\n"
     ]
    }
   ],
   "source": [
    "#牛頓法計算隱含波動率\n",
    "import numpy as np\n",
    "from numpy import log as ln  #方便用natural log\n",
    "import math\n",
    "i=1\n",
    "n=100 #圈數\n",
    "p0=1  #起始值\n",
    "tol=0.01  #tolerance\n",
    "s=70\n",
    "k=75\n",
    "r=0.07\n",
    "t=150/365\n",
    "from scipy.stats import norm\n",
    "def dn(d):\n",
    "    dn_d=math.exp((-0.5)*d**2)/(np.sqrt(2*np.pi))\n",
    "    dn_d=float(dn_d)\n",
    "    return dn_d\n",
    "def f(sigma):\n",
    "    d1=(ln(s/k)+(r+(sigma**2)/2)*t)/(sigma*(t**0.5))\n",
    "    d2=(ln(s/k)+(r-(sigma**2)/2)*t)/(sigma*(t**0.5))\n",
    "    c=s*norm.cdf(d1)-k*math.exp(-r*t)*norm.cdf(d2)\n",
    "    return c\n",
    "while i<=n:\n",
    "    d1=(ln(s/k)+(r+(p0**2)/2)*t)/(p0*(t**0.5))\n",
    "    vega=s*t**0.5**dn(d1)\n",
    "    c=f(p0)\n",
    "    p=p0-f(p0)/vega\n",
    "    if abs(p-p0)<tol:break\n",
    "    else :\n",
    "        i=i+1\n",
    "        p0=p\n",
    "print(p)"
   ]
  }
 ],
 "metadata": {
  "kernelspec": {
   "display_name": "Python 3 (ipykernel)",
   "language": "python",
   "name": "python3"
  },
  "language_info": {
   "codemirror_mode": {
    "name": "ipython",
    "version": 3
   },
   "file_extension": ".py",
   "mimetype": "text/x-python",
   "name": "python",
   "nbconvert_exporter": "python",
   "pygments_lexer": "ipython3",
   "version": "3.9.7"
  }
 },
 "nbformat": 4,
 "nbformat_minor": 5
}
